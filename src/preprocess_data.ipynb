{
 "cells": [
  {
   "cell_type": "markdown",
   "id": "27cf8f6b",
   "metadata": {},
   "source": [
    "# Airbnb Data Preprocessing\n",
    "\n",
    "This notebook combines listings, neighbourhoods, reviews, and calendar data from multiple cities (Los Angeles, Portland, Salem, San Diego) into separate preprocessed dataset files."
   ]
  },
  {
   "cell_type": "code",
   "execution_count": 17,
   "id": "f3509b1a",
   "metadata": {},
   "outputs": [],
   "source": [
    "import pandas as pd\n",
    "import numpy as np\n",
    "import os\n",
    "from pathlib import Path\n",
    "import glob"
   ]
  },
  {
   "cell_type": "code",
   "execution_count": 18,
   "id": "21705655",
   "metadata": {},
   "outputs": [
    {
     "name": "stdout",
     "output_type": "stream",
     "text": [
      "Cities found: ['Los Angeles', 'Portland', 'Salem', 'San Diego']\n"
     ]
    }
   ],
   "source": [
    "# Define base directory for data\n",
    "BASE_DIR = Path('../Airbnb Data')\n",
    "\n",
    "# List all city directories\n",
    "cities = [d for d in os.listdir(BASE_DIR) if os.path.isdir(os.path.join(BASE_DIR, d))]\n",
    "print(f\"Cities found: {cities}\")"
   ]
  },
  {
   "cell_type": "code",
   "execution_count": 19,
   "id": "529c91df",
   "metadata": {},
   "outputs": [
    {
     "name": "stdout",
     "output_type": "stream",
     "text": [
      "Total listings loaded: 62771\n",
      "Columns in listings: 80\n"
     ]
    }
   ],
   "source": [
    "# Function to load and combine data from all cities\n",
    "def load_data_from_all_cities(file_type):\n",
    "    \"\"\"Load specific data file from all cities and combine into one dataframe\"\"\"\n",
    "    all_data = []\n",
    "    \n",
    "    for city in cities:\n",
    "        file_path = BASE_DIR / city / f\"{file_type}.csv\"\n",
    "        if file_path.exists():\n",
    "            df = pd.read_csv(file_path)\n",
    "            # Add city column to identify source\n",
    "            df['city'] = city\n",
    "            all_data.append(df)\n",
    "        else:\n",
    "            print(f\"Warning: {file_path} not found\")\n",
    "    \n",
    "    if all_data:\n",
    "        return pd.concat(all_data, ignore_index=True)\n",
    "    else:\n",
    "        return pd.DataFrame()\n",
    "\n",
    "# Load listings from all cities\n",
    "all_listings = load_data_from_all_cities('listings')\n",
    "print(f\"Total listings loaded: {len(all_listings)}\")\n",
    "print(f\"Columns in listings: {len(all_listings.columns)}\")"
   ]
  },
  {
   "cell_type": "code",
   "execution_count": 20,
   "id": "6783fc42",
   "metadata": {},
   "outputs": [
    {
     "name": "stdout",
     "output_type": "stream",
     "text": [
      "Neighbourhoods data loaded: 481 records\n",
      "Reviews data loaded: 3003791 records\n",
      "Reviews data loaded: 3003791 records\n"
     ]
    },
    {
     "name": "stderr",
     "output_type": "stream",
     "text": [
      "/var/folders/m8/rtmqck7x7cx4ccts2v7r4kzh0000gn/T/ipykernel_991/2196894196.py:9: DtypeWarning: Columns (4) have mixed types. Specify dtype option on import or set low_memory=False.\n",
      "  df = pd.read_csv(file_path)\n",
      "/var/folders/m8/rtmqck7x7cx4ccts2v7r4kzh0000gn/T/ipykernel_991/2196894196.py:9: DtypeWarning: Columns (4) have mixed types. Specify dtype option on import or set low_memory=False.\n",
      "  df = pd.read_csv(file_path)\n",
      "/var/folders/m8/rtmqck7x7cx4ccts2v7r4kzh0000gn/T/ipykernel_991/2196894196.py:9: DtypeWarning: Columns (4) have mixed types. Specify dtype option on import or set low_memory=False.\n",
      "  df = pd.read_csv(file_path)\n"
     ]
    },
    {
     "name": "stdout",
     "output_type": "stream",
     "text": [
      "Calendar data loaded: 22902530 records\n"
     ]
    }
   ],
   "source": [
    "# Load neighbourhoods data\n",
    "all_neighbourhoods = load_data_from_all_cities('neighbourhoods')\n",
    "print(f\"Neighbourhoods data loaded: {len(all_neighbourhoods)} records\")\n",
    "\n",
    "# Load reviews data\n",
    "all_reviews = load_data_from_all_cities('reviews')\n",
    "print(f\"Reviews data loaded: {len(all_reviews)} records\")\n",
    "\n",
    "# Load calendar data\n",
    "all_calendar = load_data_from_all_cities('calendar')\n",
    "print(f\"Calendar data loaded: {len(all_calendar)} records\")"
   ]
  },
  {
   "cell_type": "markdown",
   "id": "5eda6c09",
   "metadata": {},
   "source": [
    "## Data Preprocessing\n",
    "\n",
    "Now let's process and clean the data from all sources before saving to separate files."
   ]
  },
  {
   "cell_type": "code",
   "execution_count": 21,
   "id": "2063c888",
   "metadata": {},
   "outputs": [
    {
     "name": "stdout",
     "output_type": "stream",
     "text": [
      "Total calendar entries: 22902530\n"
     ]
    }
   ],
   "source": [
    "# Process all calendar data instead of filtering for 2024 only\n",
    "if not all_calendar.empty:\n",
    "    # Convert date to datetime\n",
    "    all_calendar['date'] = pd.to_datetime(all_calendar['date'])\n",
    "    \n",
    "    # Use all calendar data without filtering\n",
    "    processed_calendar_data = all_calendar\n",
    "    print(f\"Total calendar entries: {len(processed_calendar_data)}\")\n",
    "else:\n",
    "    processed_calendar_data = pd.DataFrame()\n",
    "    print(\"No calendar data available\")"
   ]
  },
  {
   "cell_type": "code",
   "execution_count": 22,
   "id": "09813db4",
   "metadata": {},
   "outputs": [
    {
     "name": "stdout",
     "output_type": "stream",
     "text": [
      "Processed listings shape: (62771, 24)\n",
      "Processed neighbourhoods shape: (481, 3)\n",
      "Processed reviews shape: (3003791, 8)\n",
      "Processed calendar shape: (22902530, 8)\n"
     ]
    }
   ],
   "source": [
    "# Process the listings data\n",
    "def process_listings(df):\n",
    "    if df.empty:\n",
    "        print(\"No listings data available.\")\n",
    "        return pd.DataFrame()\n",
    "    \n",
    "    # Select important columns from listings\n",
    "    essential_columns = [\n",
    "        'id', 'name', 'description', 'neighbourhood_cleansed', \n",
    "        'latitude', 'longitude', 'property_type', 'room_type', \n",
    "        'accommodates', 'bathrooms_text', 'bedrooms', 'beds', \n",
    "        'price', 'minimum_nights', 'maximum_nights', 'city',\n",
    "        'number_of_reviews', 'review_scores_rating', 'host_id', 'host_name',\n",
    "        'host_since', 'host_response_rate', 'host_is_superhost',\n",
    "        'calculated_host_listings_count'\n",
    "    ]\n",
    "    \n",
    "    # Select columns that exist in the dataframe\n",
    "    existing_columns = [col for col in essential_columns if col in df.columns]\n",
    "    processed_df = df[existing_columns].copy()\n",
    "    \n",
    "    # Process price - remove $ and convert to numeric\n",
    "    if 'price' in processed_df.columns:\n",
    "        processed_df['price'] = processed_df['price'].replace('[\\$,]', '', regex=True)\n",
    "        # Convert to numeric, errors='coerce' will set invalid parsing values to NaN\n",
    "        processed_df['price'] = pd.to_numeric(processed_df['price'], errors='coerce')\n",
    "    \n",
    "    # Fill missing numeric values appropriately\n",
    "    numeric_cols = processed_df.select_dtypes(include=[np.number]).columns\n",
    "    processed_df[numeric_cols] = processed_df[numeric_cols].fillna(0)\n",
    "    \n",
    "    return processed_df\n",
    "\n",
    "# Process neighborhoods data\n",
    "def process_neighbourhoods(df):\n",
    "    if df.empty:\n",
    "        print(\"No neighbourhoods data available.\")\n",
    "        return pd.DataFrame()\n",
    "    \n",
    "    # Ensure we have consistent columns\n",
    "    required_cols = ['neighbourhood', 'city']\n",
    "    optional_cols = ['neighbourhood_group']\n",
    "    \n",
    "    # Create a new dataframe with required columns\n",
    "    processed_df = df[['neighbourhood', 'city']].copy()\n",
    "    \n",
    "    # Add optional columns if they exist\n",
    "    for col in optional_cols:\n",
    "        if col in df.columns:\n",
    "            processed_df[col] = df[col]\n",
    "    \n",
    "    # Remove duplicates\n",
    "    processed_df = processed_df.drop_duplicates()\n",
    "    \n",
    "    return processed_df\n",
    "\n",
    "# Process reviews data\n",
    "def process_reviews(df):\n",
    "    if df.empty:\n",
    "        print(\"No reviews data available.\")\n",
    "        return pd.DataFrame()\n",
    "    \n",
    "    # Select important columns\n",
    "    essential_columns = [\n",
    "        'listing_id', 'id', 'date', 'reviewer_id', 'reviewer_name', \n",
    "        'comments', 'city'\n",
    "    ]\n",
    "    \n",
    "    # Select columns that exist in the dataframe\n",
    "    existing_columns = [col for col in essential_columns if col in df.columns]\n",
    "    processed_df = df[existing_columns].copy()\n",
    "    \n",
    "    # Add review length as a feature\n",
    "    if 'comments' in processed_df.columns:\n",
    "        processed_df['review_length'] = processed_df['comments'].str.split().str.len()\n",
    "    \n",
    "    return processed_df\n",
    "\n",
    "# Process calendar data\n",
    "def process_calendar(df):\n",
    "    if df.empty:\n",
    "        print(\"No calendar data available.\")\n",
    "        return pd.DataFrame()\n",
    "    \n",
    "    # Make a copy to avoid modifying the original\n",
    "    processed_df = df.copy()\n",
    "    \n",
    "    # Process price column if it exists\n",
    "    if 'price' in processed_df.columns:\n",
    "        # Check if price is a string (it might have $ signs)\n",
    "        if processed_df['price'].dtype == 'object':\n",
    "            processed_df['price'] = processed_df['price'].replace('[\\$,]', '', regex=True)\n",
    "            # Convert to numeric\n",
    "            processed_df['price'] = pd.to_numeric(processed_df['price'], errors='coerce')\n",
    "    \n",
    "    # Convert 't'/'f' to True/False in 'available' column\n",
    "    if 'available' in processed_df.columns:\n",
    "        processed_df['available'] = processed_df['available'].map({'t': True, 'f': False})\n",
    "    \n",
    "    return processed_df\n",
    "\n",
    "# Process all datasets\n",
    "processed_listings = process_listings(all_listings)\n",
    "processed_neighbourhoods = process_neighbourhoods(all_neighbourhoods)\n",
    "processed_reviews = process_reviews(all_reviews)\n",
    "processed_calendar = process_calendar(processed_calendar_data)\n",
    "\n",
    "print(f\"Processed listings shape: {processed_listings.shape}\")\n",
    "print(f\"Processed neighbourhoods shape: {processed_neighbourhoods.shape}\")\n",
    "print(f\"Processed reviews shape: {processed_reviews.shape}\")\n",
    "print(f\"Processed calendar shape: {processed_calendar.shape}\")"
   ]
  },
  {
   "cell_type": "code",
   "execution_count": 23,
   "id": "d247b885",
   "metadata": {},
   "outputs": [
    {
     "name": "stdout",
     "output_type": "stream",
     "text": [
      "Preprocessed listings saved to ../Airbnb Data/preprocessed_listings.csv\n",
      "Preprocessed neighbourhoods saved to ../Airbnb Data/preprocessed_neighbourhoods.csv\n",
      "Preprocessed reviews saved to ../Airbnb Data/preprocessed_reviews.csv\n",
      "Preprocessed reviews saved to ../Airbnb Data/preprocessed_reviews.csv\n",
      "Preprocessed calendar saved to ../Airbnb Data/preprocessed_calendar.csv\n",
      "Preprocessed calendar saved to ../Airbnb Data/preprocessed_calendar.csv\n"
     ]
    }
   ],
   "source": [
    "# Save the preprocessed data to separate files\n",
    "def save_datasets():\n",
    "    # Create output directory if it doesn't exist\n",
    "    output_dir = BASE_DIR\n",
    "    \n",
    "    # Save listings\n",
    "    listings_path = output_dir / 'preprocessed_listings.csv'\n",
    "    processed_listings.to_csv(listings_path, index=False)\n",
    "    print(f\"Preprocessed listings saved to {listings_path}\")\n",
    "    \n",
    "    # Save neighbourhoods\n",
    "    neighbourhoods_path = output_dir / 'preprocessed_neighbourhoods.csv'\n",
    "    processed_neighbourhoods.to_csv(neighbourhoods_path, index=False)\n",
    "    print(f\"Preprocessed neighbourhoods saved to {neighbourhoods_path}\")\n",
    "    \n",
    "    # Save reviews\n",
    "    reviews_path = output_dir / 'preprocessed_reviews.csv'\n",
    "    processed_reviews.to_csv(reviews_path, index=False)\n",
    "    print(f\"Preprocessed reviews saved to {reviews_path}\")\n",
    "    \n",
    "    # Save calendar\n",
    "    calendar_path = output_dir / 'preprocessed_calendar.csv'\n",
    "    processed_calendar.to_csv(calendar_path, index=False)\n",
    "    print(f\"Preprocessed calendar saved to {calendar_path}\")\n",
    "\n",
    "# Save all datasets\n",
    "save_datasets()"
   ]
  },
  {
   "cell_type": "code",
   "execution_count": 24,
   "id": "1a3e248e",
   "metadata": {},
   "outputs": [
    {
     "name": "stdout",
     "output_type": "stream",
     "text": [
      "Summary of preprocessed data:\n",
      "\n",
      "Listings:\n",
      "Total records: 62771\n",
      "Records by city:\n",
      "city\n",
      "Los Angeles    45031\n",
      "San Diego      12844\n",
      "Portland        4542\n",
      "Salem            354\n",
      "Name: count, dtype: int64\n",
      "\n",
      "Neighbourhoods:\n",
      "Total records: 481\n",
      "Records by city:\n",
      "city\n",
      "Los Angeles    270\n",
      "San Diego      108\n",
      "Portland        95\n",
      "Salem            8\n",
      "Name: count, dtype: int64\n",
      "\n",
      "Reviews:\n",
      "Total records: 3003791\n",
      "Records by city:\n",
      "city\n",
      "Los Angeles    1673605\n",
      "San Diego       839296\n",
      "Portland        470428\n",
      "Salem            20462\n",
      "Name: count, dtype: int64\n",
      "\n",
      "Calendar:\n",
      "Total records: 22902530\n",
      "Records by city:\n",
      "city\n",
      "Los Angeles    16428742\n",
      "San Diego       4687135\n",
      "Portland        1657443\n",
      "Salem            129210\n",
      "Name: count, dtype: int64\n",
      "Records by city:\n",
      "city\n",
      "Los Angeles    1673605\n",
      "San Diego       839296\n",
      "Portland        470428\n",
      "Salem            20462\n",
      "Name: count, dtype: int64\n",
      "\n",
      "Calendar:\n",
      "Total records: 22902530\n",
      "Records by city:\n",
      "city\n",
      "Los Angeles    16428742\n",
      "San Diego       4687135\n",
      "Portland        1657443\n",
      "Salem            129210\n",
      "Name: count, dtype: int64\n",
      "\n",
      "Calendar date range: 2024-12-23 00:00:00 to 2026-03-02 00:00:00\n",
      "\n",
      "Calendar date range: 2024-12-23 00:00:00 to 2026-03-02 00:00:00\n"
     ]
    }
   ],
   "source": [
    "# Data summary statistics\n",
    "print(\"Summary of preprocessed data:\")\n",
    "print(\"\\nListings:\")\n",
    "print(f\"Total records: {len(processed_listings)}\")\n",
    "print(f\"Records by city:\\n{processed_listings['city'].value_counts()}\")\n",
    "\n",
    "print(\"\\nNeighbourhoods:\")\n",
    "print(f\"Total records: {len(processed_neighbourhoods)}\")\n",
    "print(f\"Records by city:\\n{processed_neighbourhoods['city'].value_counts()}\")\n",
    "\n",
    "print(\"\\nReviews:\")\n",
    "print(f\"Total records: {len(processed_reviews)}\")\n",
    "print(f\"Records by city:\\n{processed_reviews['city'].value_counts()}\")\n",
    "\n",
    "print(\"\\nCalendar:\")\n",
    "print(f\"Total records: {len(processed_calendar)}\")\n",
    "print(f\"Records by city:\\n{processed_calendar['city'].value_counts()}\")\n",
    "# Display date range in calendar data\n",
    "if not processed_calendar.empty and 'date' in processed_calendar.columns:\n",
    "    print(f\"\\nCalendar date range: {processed_calendar['date'].min()} to {processed_calendar['date'].max()}\")"
   ]
  },
  {
   "cell_type": "code",
   "execution_count": null,
   "id": "4039b0ab",
   "metadata": {},
   "outputs": [],
   "source": []
  }
 ],
 "metadata": {
  "kernelspec": {
   "display_name": "Python 3",
   "language": "python",
   "name": "python3"
  },
  "language_info": {
   "codemirror_mode": {
    "name": "ipython",
    "version": 3
   },
   "file_extension": ".py",
   "mimetype": "text/x-python",
   "name": "python",
   "nbconvert_exporter": "python",
   "pygments_lexer": "ipython3",
   "version": "3.11.11"
  }
 },
 "nbformat": 4,
 "nbformat_minor": 5
}
